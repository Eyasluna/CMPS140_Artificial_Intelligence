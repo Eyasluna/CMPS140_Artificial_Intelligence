{
 "cells": [
  {
   "cell_type": "markdown",
   "metadata": {},
   "source": [
    "# CMPS 140  Yibo Fu "
   ]
  },
  {
   "cell_type": "markdown",
   "metadata": {
    "deletable": false,
    "editable": false,
    "nbgrader": {
     "checksum": "72308daadc2aa033ae570b05a15286f5",
     "grade": false,
     "grade_id": "cell-1c1d1b43bd9d21cf",
     "locked": true,
     "schema_version": 1,
     "solution": false
    }
   },
   "source": [
    "# Assignment 2\n",
    "\n",
    "Due Friday May 4th, 11:59pm"
   ]
  },
  {
   "cell_type": "markdown",
   "metadata": {
    "deletable": false,
    "editable": false,
    "nbgrader": {
     "checksum": "cf51e04c44eaeccc4593f75f151120c6",
     "grade": false,
     "grade_id": "cell-005d8e6b2614e4b0",
     "locked": true,
     "schema_version": 1,
     "solution": false
    }
   },
   "source": [
    "## Question 1\n",
    "\n",
    "![graph](https://docs.google.com/drawings/d/e/2PACX-1vStncj9Nc0LddQeViaYnykNxEZsJoYJMHhub2LLX8s7k7gwYjlnlt0cCcivymFihiZyOOMtHwzk1Z4G/pub?w=960&amp;h=720)\n",
    "\n",
    "Given the above graph implement the following search algorithms:\n",
    "\n",
    "1. **Depth First Search** (Graph Style) (Textbook Section 3.4.3)\n",
    "2. **Iterative Deepening Depth-First Search** (Textbook Section 3.4.5)\n",
    "3. **A* Search** (A-Star) (Textbook Section 3.5.2)\n",
    "\n",
    "\n",
    "\n",
    "You will implement each of these search algorithms as a function with the following signature:\n",
    "\n",
    "```python\n",
    "def search_algorithm(starting_node, goal_node):\n",
    "    \"\"\"\n",
    "    This function implements a search algorithm.\n",
    "    Parameters:\n",
    "    - starting_node: The entry node into the graph\n",
    "    - goal_node: The integer ID of the goal node.\n",
    "    \n",
    "    Returns:\n",
    "    A list containing the visited node ids in order they were visited with starting node\n",
    "    always being the first node and the goal node always being the last\n",
    "    \"\"\"\n",
    "    \n",
    "    visited_nodes_in_order = []\n",
    "    \n",
    "    # algorithm implemented here\n",
    "    \n",
    "    return visited_nodes_in_order\n",
    "```\n",
    "\n",
    "\n",
    "I have put skeleton methods for each of the algorithms for you to fill in.\n",
    "\n",
    "Here are the pseudo code/descriptions implemenatations from the book.\n",
    "\n",
    "# Depth First Search\n",
    "---\n",
    "![dfs.png](https://lh3.googleusercontent.com/y8b0v4eTG2xfUqkWFm7H_RTb_sJ1ERBiyfWjkClb7GtRUsbAFwpECMnL9JfyTcY4AAhBhCWQiQlLhAmWPQLAN_6Ja_WMFEn5U0PoXaPqNJvKjEf9hW6Meq5xyHdygXqB-WzdBRmVEA=w2400)\n",
    "![dfs-desc.png](https://lh3.googleusercontent.com/dIDKkPQZ7Vn-HfQ0WPlpthT_RkrQ86lH11hjLceUcDvFF2BCZs2RrfRfEiXgpZVG35vkGkLg6q3nISYeEUriPfwVxSNmhxOO0Gujl43G1lRsN8dTBTaxT8baX8tMu0st49R_CsWBKw=w2400)\n",
    "\n",
    "# Iterative Deepening Depth First Search\n",
    "---\n",
    "![iddfs.png](https://lh3.googleusercontent.com/HrkCyMnoMPZoDELRdqx1cakdgA2rPZ2ImIg5n5XE-A5MXwHch7ZZ6uBE4vmVXv34V6BRFOgyrHl6aTXMm0qijA8s47zda7s9dKDDYzEH1mTnhEPWvOM9r1gE1wwXfXP0_3T22zFO0Q=w2400)\n",
    "![dls.png](https://lh3.googleusercontent.com/w78lEVXUJitCh8WebB49DACKztyErtXTPi4ybHE0ai5L1orFkdYMtc7AfzdiXF1uuotahgqXoYHeaBpeExztTFR0GvKMIE4ddrYoHe6qSea3zL9TQh6LRYHV69cA3pXGt1nyl3Injg=w2400)\n",
    "\n",
    "# A* Search\n",
    "---\n",
    "![astar](https://lh3.googleusercontent.com/Mp31KIl0a7Eu3ky0WU2QaqMBaAZRFH2ed48ua0dAr-P7GQqwyyYi7MT0NzP-2yaF-YQaykasARoUUUolghYc_Vszd4JCYSbKHQMUaAiT2Np9Khypz7NhwMhDOybJGJPdb1e_6oU1RQ=w2400)\n",
    "\n",
    "# NOTES\n",
    "---\n",
    " - If two nodes are considered equally good chocices, take the node with the lower ID first. \n",
    " - Do not revisit already explored nodes when implementing the Depth First Search.\n",
    " \n",
    " "
   ]
  },
  {
   "cell_type": "code",
   "execution_count": 1,
   "metadata": {
    "collapsed": true,
    "deletable": false,
    "editable": false,
    "nbgrader": {
     "checksum": "8afa7796894837e54496378e3d592d5b",
     "grade": false,
     "grade_id": "cell-aa3d2d3b46546205",
     "locked": true,
     "schema_version": 1,
     "solution": false
    }
   },
   "outputs": [],
   "source": [
    " class Node:\n",
    "    \"\"\"\n",
    "    This class describes a single node contained within a graph. \n",
    "    It has the following instannce level attributes:\n",
    "    \n",
    "    ID: An integer id for the node i.e. 1\n",
    "    heuristic_cost: A float value representing the estimated \n",
    "                    cost to the goal node\n",
    "    \"\"\"    \n",
    "    def __init__(self, ID, heuristic_cost):\n",
    "        self.ID = ID\n",
    "        self.connected_nodes = []\n",
    "        self.heuristic_cost = heuristic_cost\n",
    "        \n",
    "    def __repr__(self):\n",
    "        ID = self.ID\n",
    "        hx = self.heuristic_cost\n",
    "        if len(self.connected_nodes)==0:\n",
    "            nodes = 'None'\n",
    "        else:\n",
    "            nodes = ','.join(str(cn[1].ID) for cn in self.connected_nodes)\n",
    "        return 'Node:{}\\nh(n):{}\\nConnected Nodes:{}'.format(ID, hx, nodes)\n",
    "        \n",
    "    def set_connected_nodes(self,connected_nodes):\n",
    "        \"\"\"\n",
    "        Adds edges that lead from this node to other nodes:\n",
    "        \n",
    "        Parameters:\n",
    "        - connected_nodes: A list of tuples consisting of (cost, Node), \n",
    "                           where 'cost' is a floating point value \n",
    "                           indicating the cost to get from this node \n",
    "                           to 'Node' and 'Node' is a Node object\n",
    "        \"\"\"\n",
    "        self.connected_nodes = connected_nodes\n",
    "    \n",
    "def build_graph():\n",
    "    \"\"\"\n",
    "    Builds the graph to be parsed by the search algorithms.\n",
    "    Returns: The starting node, which is the entry point into the graph\n",
    "    \"\"\"\n",
    "    ids = range(13)\n",
    "    coords = [(0,0), (1,1), (1,0), (1,1), (5,2), (3,1), (3,0), \n",
    "              (3,-1), (5,1), (4,1), (4,0), (4,-2), (7,0)]\n",
    "    \n",
    "    #https://en.wikipedia.org/wiki/Euclidean_distance\n",
    "    euclidean_distance = lambda x1y1, x2y2: ((x1y1[0]-x2y2[0])**2 +  (x1y1[1]-x2y2[1])**2)**(0.5)\n",
    "    \n",
    "    def build_connected_node_list(from_id, to_ids):\n",
    "        starting_coords = coords[from_id]\n",
    "        \n",
    "        connected_nodes = []\n",
    "        for to_id in to_ids:\n",
    "            connected_nodes.append((euclidean_distance(starting_coords, coords[to_id]), all_nodes[to_id]))\n",
    "            \n",
    "        return connected_nodes\n",
    "    \n",
    "    goal_coords = (7,0)\n",
    "    all_nodes = [Node(_id, euclidean_distance(coord, goal_coords)) for _id, coord in zip(ids, coords)]\n",
    "    \n",
    "    all_nodes[8].set_connected_nodes(build_connected_node_list(8, [12]))\n",
    "    all_nodes[10].set_connected_nodes(build_connected_node_list(10,[12]))\n",
    "    all_nodes[5].set_connected_nodes(build_connected_node_list(5, [8]))\n",
    "    all_nodes[6].set_connected_nodes(build_connected_node_list(6, [9, 10]))\n",
    "    all_nodes[7].set_connected_nodes(build_connected_node_list(7, [11]))\n",
    "    all_nodes[1].set_connected_nodes(build_connected_node_list(1, [4,5]))\n",
    "    all_nodes[2].set_connected_nodes(build_connected_node_list(2, [5,6]))\n",
    "    all_nodes[3].set_connected_nodes(build_connected_node_list(3, [7]))\n",
    "    all_nodes[0].set_connected_nodes(build_connected_node_list(0, [1,2,3]))\n",
    "    \n",
    "    return all_nodes[0]"
   ]
  },
  {
   "cell_type": "code",
   "execution_count": 3,
   "metadata": {},
   "outputs": [
    {
     "data": {
      "text/plain": [
       "0"
      ]
     },
     "execution_count": 3,
     "metadata": {},
     "output_type": "execute_result"
    }
   ],
   "source": [
    "# The starting node. You can use this cell to familiarize\n",
    "# yourself with the node/graph structure\n",
    "graph = build_graph()\n",
    "dir(graph)\n",
    "graph.ID"
   ]
  },
  {
   "cell_type": "code",
   "execution_count": 4,
   "metadata": {
    "collapsed": true,
    "deletable": false,
    "nbgrader": {
     "checksum": "37b87c3f1397735e3df73a3ac59cd58d",
     "grade": false,
     "grade_id": "cell-8782a75d513b1327",
     "locked": false,
     "schema_version": 1,
     "solution": true
    }
   },
   "outputs": [],
   "source": [
    "def depth_first_search(starting_node, goal_node):\n",
    "    \"\"\"\n",
    "    This function implements the depth first search algorithm\n",
    "    \n",
    "    Parameters:\n",
    "    - starting_node: The entry node into the graph\n",
    "    - goal_node: The integer ID of the goal node.\n",
    "    \n",
    "    Returns:\n",
    "    A list containing the visited nodes in order they were visited with starting node\n",
    "    always being the first node and the goal node always being the last\n",
    "    \"\"\"\n",
    "    visited_nodes_in_order = []\n",
    "    # YOUR CODE HERE\n",
    "    visited_nodes_in_order.append(starting_node.ID)\n",
    "    for euclidean_distance, connected_node in starting_node.connected_nodes:\n",
    "        sub_visited_nodes_in_order = depth_first_search(connected_node, goal_node)\n",
    "        visited_nodes_in_order.extend(sub_visited_nodes_in_order)\n",
    "        if goal_node in visited_nodes_in_order:\n",
    "            break\n",
    "    return visited_nodes_in_order\n",
    "\n",
    "def iterative_deepening_depth_first_search(starting_node, goal_node):\n",
    "    \"\"\"\n",
    "    This function implements the iterative deepening depth first search algorithm\n",
    "    \n",
    "    Parameters:\n",
    "    - starting_node: The entry node into the graph\n",
    "    - goal_node: The integer ID of the goal node.\n",
    "    \n",
    "    Returns:\n",
    "    A list containing the visited node ids in order they were visited with starting node\n",
    "    always being the first node and the goal node always being the last\n",
    "    \"\"\"\n",
    "    visited_nodes_in_order = []\n",
    "    # YOUR CODE HERE\n",
    "    def limited_depth_first_search(starting_node, goal, depth):\n",
    "        visited_nodes = [starting_node.ID]\n",
    "        if depth <= 0:\n",
    "            return visited_nodes\n",
    "        for euclidean_distance, connected_node in starting_node.connected_nodes:\n",
    "            sub_visited_nodes = limited_depth_first_search(connected_node, goal, depth-1)\n",
    "            visited_nodes.extend(sub_visited_nodes)\n",
    "            if goal in visited_nodes:\n",
    "                break\n",
    "        return visited_nodes\n",
    "    \n",
    "    depth = 0\n",
    "    while goal_node not in visited_nodes_in_order:\n",
    "        sub_visited_nodes_in_order = limited_depth_first_search(starting_node, goal_node, depth)\n",
    "        visited_nodes_in_order.extend(sub_visited_nodes_in_order)\n",
    "        depth += 1\n",
    "    return visited_nodes_in_order\n",
    "\n",
    "def a_star_search(starting_node, goal_node):\n",
    "    \"\"\"\n",
    "    This function implements the A* search algorithm\n",
    "    \n",
    "    Parameters:\n",
    "    - starting_node: The entry node into the graph\n",
    "    - goal_node: The integer ID of the goal node.\n",
    "    \n",
    "    Returns:\n",
    "    A list containing the visited node ids in order they were visited with starting node\n",
    "    always being the first node and the goal nodea always being the last\n",
    "    \"\"\"\n",
    "    visited_nodes_in_order = []\n",
    "    # YOUR CODE HERE\n",
    "    open_nodes, close_nodes = [starting_node], []\n",
    "    f_values = {starting_node: {'g': 0, 'h': 0}}\n",
    "    parent_node = {}\n",
    "    while len(open_nodes) > 0:\n",
    "        current_visit_node = min(open_nodes, key=lambda node:f_values[node]['g'] + f_values[node]['h'])\n",
    "        visited_nodes_in_order.append(current_visit_node.ID)\n",
    "        open_nodes.remove(current_visit_node)\n",
    "        if current_visit_node.ID == goal_node:\n",
    "            break\n",
    "        for euclidean_distance, connected_node in current_visit_node.connected_nodes:\n",
    "            if connected_node not in close_nodes:\n",
    "                if connected_node in open_nodes:\n",
    "                    if euclidean_distance < f_values[current_visit_node]['g']:\n",
    "                        parent_node[connected_node] = current_visit_node\n",
    "                        f_values[connected_node]['g'] = euclidean_distance\n",
    "                else:\n",
    "                    open_nodes.append(connected_node)\n",
    "                    parent_node[connected_node] = current_visit_node\n",
    "                    f_values[connected_node] = {'g': euclidean_distance, 'h': connected_node.heuristic_cost}\n",
    "    #print(visited_nodes_in_order)\n",
    "    return visited_nodes_in_order"
   ]
  },
  {
   "cell_type": "code",
   "execution_count": 17,
   "metadata": {
    "collapsed": true,
    "deletable": false,
    "editable": false,
    "nbgrader": {
     "checksum": "e1a894657841b4d6498afc844c7fd3f7",
     "grade": true,
     "grade_id": "cell-0c19db32d84a442e",
     "locked": true,
     "points": 0,
     "schema_version": 1,
     "solution": false
    }
   },
   "outputs": [],
   "source": [
    "goal_node = 12\n",
    "depth_first_search_answer = [0, 1, 4, 5, 8, 12]\n",
    "iterative_deepening_depth_first_search_answer = [0, 0, 1, 2, 3, 0, 1,\n",
    "                                                 4, 5, 2, 5, 6, 3, 7,\n",
    "                                                 0, 1, 4, 5, 8, 2, 5,\n",
    "                                                 8, 6, 9, 10, 3, 7, 11,\n",
    "                                                 0, 1, 4, 5, 8, 12]\n",
    "a_star_search_answer = [0, 2, 6, 10, 12]\n",
    "\n",
    "assert depth_first_search(build_graph(), goal_node)==depth_first_search_answer\n",
    "assert iterative_deepening_depth_first_search(build_graph(), goal_node)==iterative_deepening_depth_first_search_answer\n",
    "assert a_star_search(build_graph(), goal_node)==a_star_search_answer"
   ]
  },
  {
   "cell_type": "markdown",
   "metadata": {
    "deletable": false,
    "editable": false,
    "nbgrader": {
     "checksum": "5de1d899a516090395f300c2ecc737f0",
     "grade": false,
     "grade_id": "cell-f12bff039a5016a3",
     "locked": true,
     "schema_version": 1,
     "solution": false
    }
   },
   "source": [
    "# Question 2\n",
    "\n",
    "Solve the folowing [8-puzzle](https://en.wikipedia.org/wiki/15_puzzle) using steepest ascent hillclimbing. \n",
    "\n",
    "![8puzzle.png](https://lh3.googleusercontent.com/cjob9NQOFnv80vfG71y2QBi7blTo9zl_UNcnFz1UhICK59Kc8zWBAfRa26yssTv-b7iQT2TiHlCaOLKPW-fXY_1TdIuT8Yzj9fhpKVwuW9cZSF8ehn0oTY5QA3jUfK-AMhrJu5s2aw=w2400)\n",
    "\n",
    "1. State the heuristic used.\n",
    "2. List the steps taken as comma seprated values. For example if the first three moves consist of moving the 3 tile, then the 8 tile, then the 6 tile. Your answer would start like: 3,8,6\n",
    "\n",
    "Here is the description of the algorithm from the book:\n",
    "\n",
    "![hill-climbing.png](https://lh3.googleusercontent.com/e1tTwqFAQvLGhfNdq50sQIzx2yxvP0N2Jnxh18qek59-SzrXaO4pUNnANUILUBd5qoPVoEHreBv8eo2f1zMKEtdLqS8xV47dNu-WNpXreqnEGNMCe7mih1AxG4yPdjA_gL6WjWr48w=w2400)"
   ]
  },
  {
   "cell_type": "markdown",
   "metadata": {
    "deletable": false,
    "nbgrader": {
     "checksum": "3df56022f223af2d0f27060bc9f1ab63",
     "grade": true,
     "grade_id": "cell-dc1edc8aa056f275",
     "locked": false,
     "points": 0,
     "schema_version": 1,
     "solution": true
    }
   },
   "source": [
    "[YOUR ANSWER HERE]"
   ]
  },
  {
   "cell_type": "markdown",
   "metadata": {},
   "source": [
    "### heuistic\n",
    "sum of all node position to its target position manhattan distance"
   ]
  },
  {
   "cell_type": "code",
   "execution_count": 14,
   "metadata": {
    "collapsed": true
   },
   "outputs": [],
   "source": [
    "init_state = [[2, 3, None], [1, 8, 4], [7, 6, 5]]\n",
    "goal_state = [[1, 2, 3], [8, None, 4], [7, 6, 5]]\n",
    "init_state_dict = {}\n",
    "goal_state_dict = {}\n",
    "for i in range(3):\n",
    "    for j in range(3):\n",
    "        init_state_dict[init_state[i][j]] = [i, j]\n",
    "        goal_state_dict[goal_state[i][j]] = [i, j]"
   ]
  },
  {
   "cell_type": "code",
   "execution_count": 15,
   "metadata": {
    "collapsed": true
   },
   "outputs": [],
   "source": [
    "def heuistic(state):\n",
    "    return sum([abs(state[i][0]-goal_state_dict[i][0]) + abs(state[i][1]-goal_state_dict[i][1]) for i in range(1, 9)])\n",
    "\n",
    "from copy import deepcopy\n",
    "def get_neighbor_state(state):\n",
    "    next_states = []\n",
    "    \n",
    "    s = [[0, 0, 0], [0, 0, 0], [0, 0, 0]]\n",
    "    for i in range(1, 9):\n",
    "        x, y = state[i]\n",
    "        s[x][y] = i\n",
    "    x, y = state[None]\n",
    "    s[x][y] = None\n",
    "    \n",
    "    next_x = [0, 2] if x == 1 else [1]\n",
    "    next_y = [0, 2] if y == 1 else [1]\n",
    "    for nx in next_x:\n",
    "        new_state = deepcopy(state)\n",
    "        new_state[s[nx][y]], new_state[None] = new_state[None], new_state[s[nx][y]]\n",
    "        next_states.append([new_state, s[nx][y]])\n",
    "        \n",
    "    for ny in next_y:\n",
    "        new_state = deepcopy(state)\n",
    "        new_state[s[x][ny]], new_state[None] = new_state[None], new_state[s[x][ny]]\n",
    "        next_states.append([new_state, s[x][ny]])\n",
    "    \n",
    "    return next_states\n",
    "current_state = init_state_dict"
   ]
  },
  {
   "cell_type": "code",
   "execution_count": 16,
   "metadata": {},
   "outputs": [
    {
     "data": {
      "text/plain": [
       "'3,2,1,8'"
      ]
     },
     "execution_count": 16,
     "metadata": {},
     "output_type": "execute_result"
    }
   ],
   "source": [
    "moves = []\n",
    "while heuistic(current_state)!=0:\n",
    "    for next_state, block in get_neighbor_state(current_state):\n",
    "        if heuistic(next_state) < heuistic(current_state):\n",
    "            moves.append(block)\n",
    "            current_state = next_state\n",
    "            break\n",
    "\",\".join([str(x) for x in moves])"
   ]
  },
  {
   "cell_type": "code",
   "execution_count": null,
   "metadata": {
    "collapsed": true
   },
   "outputs": [],
   "source": []
  }
 ],
 "metadata": {
  "kernelspec": {
   "display_name": "Python 3",
   "language": "python",
   "name": "python3"
  },
  "language_info": {
   "codemirror_mode": {
    "name": "ipython",
    "version": 3
   },
   "file_extension": ".py",
   "mimetype": "text/x-python",
   "name": "python",
   "nbconvert_exporter": "python",
   "pygments_lexer": "ipython3",
   "version": "3.6.4"
  }
 },
 "nbformat": 4,
 "nbformat_minor": 2
}
