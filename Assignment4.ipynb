{
 "cells": [
  {
   "cell_type": "markdown",
   "metadata": {},
   "source": [
    "# CMPS 140"
   ]
  },
  {
   "cell_type": "markdown",
   "metadata": {
    "deletable": false,
    "editable": false,
    "nbgrader": {
     "checksum": "b87060785d34c61f42c2a758f71326cb",
     "grade": false,
     "grade_id": "cell-d032f2bff8ae7ea7",
     "locked": true,
     "schema_version": 1,
     "solution": false
    }
   },
   "source": [
    "# Assignment 4\n",
    "\n",
    "**Due June 3, 2018 11:59**"
   ]
  },
  {
   "cell_type": "markdown",
   "metadata": {
    "deletable": false,
    "editable": false,
    "nbgrader": {
     "checksum": "bd8f8c01f8a1aebf2909e99624a3c543",
     "grade": false,
     "grade_id": "cell-fd085a91544fb57f",
     "locked": true,
     "schema_version": 1,
     "solution": false
    }
   },
   "source": [
    "## Problem 1\n",
    "\n",
    "Consider the following constraint satisfaction problem. A graph has nodes of the following types:\n",
    "- Triangle\n",
    "- Circle\n",
    "- Square\n",
    "- Hexagon\n",
    "- Pentagon\n",
    "\n",
    "Each node has a domain of {1, 2, ..., 9}.\n",
    "\n",
    "Each node type as the following constraints on its value:\n",
    "- Triangle - The leftmost digit of the product of all of its neightbors\n",
    "- Square - The rightmost digit of of the product of all its neighbors\n",
    "- Hexagon - The leftmost digit of the sum of all its neighbors\n",
    "- Pentagon - The rightmost digit of the sum of all its neighbors\n",
    "- Circle - No contraints\n",
    "\n",
    "Complete the function defined below:\n",
    "\n",
    "```python\n",
    "def solve_csp(nodes, arcs, max_steps):\n",
    "    \"\"\"\n",
    "    This function solves the csp using the MinConflicts Search\n",
    "    Algorithm.\n",
    "\n",
    "    INPUTS:\n",
    "    nodes:      a list of letters that indicates what type of node it is,\n",
    "                the index of the node in the list indicates its id\n",
    "                letters = {C, T, S, P, H}\n",
    "    arcs:       a list of tuples that contains two numbers, indicating the \n",
    "                IDS of the nodes the arc connects. \n",
    "    max_steps:  max number of steps to make before giving up\n",
    "\n",
    "    RETURNS: a list of values for the soltiion to the CSP where the \n",
    "             index of the value correxponds the the value for that\n",
    "             given node.\n",
    "    \"\"\"\n",
    "    node_values = []\n",
    "\n",
    "    return node_values\n",
    "```\n",
    "\n",
    "As a reminder here is the pseudo code for the Min-Conflicts search algorithm:\n",
    "\n",
    "![minconflicts](https://docs.google.com/drawings/d/e/2PACX-1vTIdOyAKDEoK6evNWQBkx9X5kl2I7GLaUkE9TdFDRqyyNFiHeFDrA-Sm7sLob2wMSzoBk_cliRhs8PY/pub?w=927&amp;h=474)\n",
    "\n",
    "**Notes:**\n",
    "\n",
    "- It's possible that you won't converge to a solution in a single run. Try a few runs to see if you get to a solution.\n",
    "- The example is to show you what a problem looks like, I will test/grade your program on different examples"
   ]
  },
  {
   "cell_type": "code",
   "execution_count": 1,
   "metadata": {
    "deletable": false,
    "nbgrader": {
     "checksum": "b43c1d03ed4c4ee88edd859216f7d25a",
     "grade": true,
     "grade_id": "cell-c95dad2f1ac8adc2",
     "locked": false,
     "points": 0,
     "schema_version": 1,
     "solution": true
    }
   },
   "outputs": [],
   "source": [
    "def solve_csp(nodes, arcs, max_steps):\n",
    "    \"\"\"\n",
    "    This function solves the csp using the MinConflicts Search\n",
    "    Algorithm.\n",
    "\n",
    "    INPUTS:\n",
    "    nodes:      a list of letters that indicates what type of node it is,\n",
    "                the index of the node in the list indicates its id\n",
    "                letters = {C, T, S, P, H}\n",
    "    arcs:       a list of tuples that contains two numbers, indicating the \n",
    "                IDS of the nodes the arc connects. \n",
    "    max_steps:  max number of steps to make before giving up\n",
    "\n",
    "    RETURNS: a list of values for the soltiion to the CSP where the \n",
    "             index of the value correxponds the the value for that\n",
    "             given node.\n",
    "    \"\"\"\n",
    "    node_values = []\n",
    "    \n",
    "    node_size = len(nodes)\n",
    "    \n",
    "    from functools import reduce\n",
    "    import time\n",
    "    import random\n",
    "\n",
    "    # set random seed by current time\n",
    "    random.seed(time.time())\n",
    "\n",
    "    graph = {}\n",
    "    ## init graph\n",
    "    for i in range(node_size):\n",
    "        graph[i] = []\n",
    "    for arc in arcs:\n",
    "        u, v = arc\n",
    "        graph[u].append(v)\n",
    "        graph[v].append(u)\n",
    "\n",
    "    # set init random value\n",
    "    for i in range(node_size):\n",
    "         node_values.append(random.randint(1, 9))\n",
    "\n",
    "    def check_conflicts():\n",
    "        conflicts_nodes = []\n",
    "        for i in range(node_size):\n",
    "            temp = None\n",
    "            if nodes[i] == 'T':\n",
    "                temp = int(str(reduce(lambda x, y: x*y, [node_values[j] for j in graph[i]]))[0])\n",
    "            elif nodes[i] == 'S':\n",
    "                temp = reduce(lambda x, y: x*y, [node_values[j] for j in graph[i]]) % 10\n",
    "            elif nodes[i] == 'H':\n",
    "                temp = int(str(sum([node_values[j] for j in graph[i]]))[0])\n",
    "            elif nodes[i] == 'P':\n",
    "                temp = sum([node_values[j] for j in graph[i]]) % 10\n",
    "            if temp is not None and temp != node_values[i]:\n",
    "                conflicts_nodes.append(i)\n",
    "        return conflicts_nodes\n",
    "\n",
    "    for _ in range(max_steps):\n",
    "        conflicts_nodes = check_conflicts()\n",
    "        if len(conflicts_nodes) == 0:\n",
    "            return node_values\n",
    "        \n",
    "        # ransom select a conflicts_nodes\n",
    "        random_var = random.choice(conflicts_nodes)\n",
    "        max_conflicts_count = len(conflicts_nodes)\n",
    "        for v in range(1, 10):\n",
    "            origin_value = node_values[random_var]\n",
    "            node_values[random_var] = v\n",
    "            new_conflicts_nodes = check_conflicts()\n",
    "            if len(new_conflicts_nodes) < max_conflicts_count \\\n",
    "                or ( len(new_conflicts_nodes) == max_conflicts_count and random.random() < 0.5):\n",
    "                max_conflicts_count = len(new_conflicts_nodes)\n",
    "            else:\n",
    "                node_values[random_var] = origin_value\n",
    "\n",
    "    return None"
   ]
  },
  {
   "cell_type": "code",
   "execution_count": 2,
   "metadata": {},
   "outputs": [
    {
     "name": "stdout",
     "output_type": "stream",
     "text": [
      "[9, 1, 1, 2, 1]\n"
     ]
    }
   ],
   "source": [
    "# Here is an exmaple input to test your code on. It is solveable.\n",
    "nodes = 'CHTPS'\n",
    "arcs = [(0,1), (0,2), (1,2), (1,3), (1,4), (2,3), (2,4)]\n",
    "max_steps = 1000\n",
    "while True:\n",
    "    a = solve_csp(nodes, arcs, max_steps)\n",
    "    if a:\n",
    "        print(a)\n",
    "        break"
   ]
  },
  {
   "cell_type": "markdown",
   "metadata": {
    "deletable": false,
    "editable": false,
    "nbgrader": {
     "checksum": "2b5a3fffc0a978cbe3582ae78155d159",
     "grade": false,
     "grade_id": "cell-a64a181856d55be5",
     "locked": true,
     "schema_version": 1,
     "solution": false
    }
   },
   "source": [
    "## Problem 2"
   ]
  },
  {
   "cell_type": "markdown",
   "metadata": {
    "deletable": false,
    "editable": false,
    "nbgrader": {
     "checksum": "37cec1e95737276e8d5c179c3dbbad49",
     "grade": false,
     "grade_id": "cell-972dc9abc3181961",
     "locked": true,
     "schema_version": 1,
     "solution": false
    }
   },
   "source": [
    "Solve the following  MDP using both value iteration and policy iteration, you can do this by hand or programmatically, but you need to show your work in either case. \n",
    "\n",
    "There is a self-driving taxi that takes from place to place. Its goal is to make the most money possible and it makes the most money in a particular town, MoneyTown. The taxi has a tendency to take routes that take it to different towns and it costs money for the taxi to drive from place to place.  \n",
    "\n",
    "There are three states that the taxi can be in: 'In MoneyTown', 'MoneyTown Suburbs', and 'Outside MoneyTown'. There are two actions that the taxi can take in each state: drive and wait. Driving costs \\$10. When the taxi is in money town it makes \\$30, in MoneyTown Suburbs and Outside MoneyTown it only makes \\$10. The reward for the taxi is:\n",
    "\n",
    "(money made - cost) \n",
    "\n",
    "For example if the taxi is driving around in MoneyTown, the reward is \\$30-\\$10=\\$20.\n",
    "\n",
    "If the taxi is in MoneyTown and drives, then it is still MoneyTown in the next period with probability .9, and in the MoneyTown Suburbs in the next period with probability .1. If it is MoneyTown and does not drive, these probabilities are .7 and .3, respectively. If it is in the MoneyTown Suburbs and drives, then with probability .3 it is in MoneyTown in the next period, with probability .6 it is still in MoneyTown Suburbs in the next period, and with probability .1 it is in Outside MoneyTown in the next period. If it is in MoneyTown Suburbs and does not drive, then with probability 1 it is Outside MoneyTown next period. Finally, if it is in Outside MoneyTown and drives, then in the next period it is in MoneyTown with probability .6, and at the OutSide MoneyTown with probability .4. If it does not drive, then with probability 1 it is at Outside MoneyTown in the next period. \n",
    "\n",
    "1. Draw the MDP graphically\n",
    "  - A good way to do this is through [Google Drawings](https://docs.google.com/drawings)\n",
    "  - When you're done you can embed it in the jupyter notebook using markdown syntax\n",
    "  - \\!\\[alt-text\\]\\(url\\)\n",
    "  - To get the URL for your image in Google Draw goto File->Publish to the web...->Embed and copy the src portion of the html tag\n",
    "  \n",
    "2. Using a discount factor of .8, solve the MDP using value iteration (until the values have become reasonably stable). You should start with the values set to zero. You should show both the optimal policy and the optimal values.\n",
    "3. Using a discount factor of .8, solve the MDP using policy iteration (until you have complete convergence). You should start with the policy that never drives. Again, you should show both the optimal policy and the optimal values (and of course they should be the same as in 2...).\n",
    "4. Change the MDP in three different ways: by changing the discount factor, changing the transition probabilities for a single action from a single state, and by changing a reward for a single action at a single state. Each of these changes should be performed separately starting at the original MDP, resulting in three new MDPs (which you do not have to draw), each of which is different from the original MDP in a single way. In each case, the change should be so that the optimal policy changes, and you should state what the optimal policy becomes and give a short intuitive argument for this.\n",
    "\n",
    "\n",
    "**If you solve the problem programmatically, put your code in here. If you solve it by hand include your work here as well. You can add cells as you feel the need.**"
   ]
  },
  {
   "cell_type": "markdown",
   "metadata": {},
   "source": [
    "![alt-text](https://docs.google.com/drawings/d/e/2PACX-1vT2GZIHgi94s28LYGE19J1u37-UPrijsTklF3lEZX51uIhcJmr9qLBpjF4one434I8lisXMZ-D88uvC/pub?w=960&amp;h=720)"
   ]
  },
  {
   "cell_type": "code",
   "execution_count": 3,
   "metadata": {},
   "outputs": [],
   "source": [
    "gamma = 0.8\n",
    "t_pe = 1000\n",
    "T = {}\n",
    "MONEYTOWN = 0\n",
    "MONEYTOWNSUBURBS = 1\n",
    "OUTSIDEMONEYTOWN = 2\n",
    "DRIVE = 0\n",
    "NOTDRIVE = 1\n",
    "T[(MONEYTOWN, DRIVE, MONEYTOWN)] = 0.9\n",
    "T[(MONEYTOWN, DRIVE, MONEYTOWNSUBURBS)] = 0.1\n",
    "T[(MONEYTOWN, NOTDRIVE, MONEYTOWN)] = 0.7\n",
    "T[(MONEYTOWN, NOTDRIVE, MONEYTOWNSUBURBS)] = 0.3\n",
    "T[(MONEYTOWNSUBURBS, DRIVE, MONEYTOWN)] = 0.3\n",
    "T[(MONEYTOWNSUBURBS, DRIVE, MONEYTOWNSUBURBS)] = 0.6\n",
    "T[(MONEYTOWNSUBURBS, DRIVE, OUTSIDEMONEYTOWN)] = 0.1\n",
    "T[(MONEYTOWNSUBURBS, NOTDRIVE, OUTSIDEMONEYTOWN)] = 1.0\n",
    "T[(OUTSIDEMONEYTOWN, DRIVE, MONEYTOWN)] = 0.6\n",
    "T[(OUTSIDEMONEYTOWN, DRIVE, OUTSIDEMONEYTOWN)] = 0.4\n",
    "T[(OUTSIDEMONEYTOWN, NOTDRIVE, OUTSIDEMONEYTOWN)] = 1.0\n",
    "def reward(state, action):\n",
    "    r = -10 if action == DRIVE else 0\n",
    "    if state == MONEYTOWN:\n",
    "        r += 30\n",
    "    else:\n",
    "        r += 10\n",
    "    return r"
   ]
  },
  {
   "cell_type": "code",
   "execution_count": 4,
   "metadata": {},
   "outputs": [
    {
     "name": "stdout",
     "output_type": "stream",
     "text": [
      "[106.41421947449767, 70.09273570324575, 75.11591962905719] 251.6228748068006\n",
      "In MoneyTown :  not drive\n",
      "MoneyTown Suburbs :  not drive\n",
      "Outside MoneyTown :  drive\n"
     ]
    }
   ],
   "source": [
    "def value_iteration_algorithm(gamma, T, reward):\n",
    "    v_s = [0, 0, 0]\n",
    "    best_policy = [0, 0, 0]\n",
    "    for i in range(t_pe):\n",
    "        new_v_s = [0, 0, 0]\n",
    "        delta = 0\n",
    "        for s in range(3):\n",
    "            q = 0\n",
    "            for action in [NOTDRIVE, DRIVE]:\n",
    "                temp = 0\n",
    "                for sp in range(3):\n",
    "                    prob = T.get((s, action, sp), 0.0)\n",
    "                    utility = reward(s, action) + gamma * v_s[sp]\n",
    "                    temp += prob * utility\n",
    "                if temp > q:\n",
    "                    best_policy[s] = action\n",
    "                    q = temp\n",
    "            new_v_s[s] = q\n",
    "            delta = max(delta, abs(v_s[s] - new_v_s[s]))\n",
    "\n",
    "        if delta < 1e-14:\n",
    "            break\n",
    "\n",
    "        v_s = new_v_s\n",
    "\n",
    "    print(v_s, sum(v_s))\n",
    "    state_names = ['In MoneyTown', 'MoneyTown Suburbs', 'Outside MoneyTown']\n",
    "    action_names = ['drive', 'not drive']\n",
    "    for s in range(3):\n",
    "        print(state_names[s] ,': ', action_names[best_policy[s]])\n",
    "\n",
    "value_iteration_algorithm(gamma, T, reward)"
   ]
  },
  {
   "cell_type": "code",
   "execution_count": 5,
   "metadata": {},
   "outputs": [
    {
     "name": "stdout",
     "output_type": "stream",
     "text": [
      "[106.41421947449767, 70.09273570324575, 75.11591962905719] 251.6228748068006\n",
      "In MoneyTown :  not drive\n",
      "MoneyTown Suburbs :  not drive\n",
      "Outside MoneyTown :  drive\n"
     ]
    }
   ],
   "source": [
    "def policy_iteration_algorithm(gamma, T, reward):\n",
    "    # init all policies\n",
    "    policies = []\n",
    "    for i in [NOTDRIVE, DRIVE]:\n",
    "        for j in [NOTDRIVE, DRIVE]:\n",
    "            for k in [NOTDRIVE, DRIVE]:\n",
    "                policies.append([i, j, k])\n",
    "\n",
    "    best_policy = None\n",
    "    best_values = None\n",
    "    for policy in policies:\n",
    "        # init value for all state\n",
    "        v_s = [0, 0, 0]\n",
    "        for i in range(t_pe):\n",
    "            new_v_s = [0, 0, 0]\n",
    "            for s in range(3):\n",
    "                for sp in range(3):\n",
    "                    action = policy[s]\n",
    "                    prob = T.get((s, action, sp), 0.0)\n",
    "                    utility = reward(s, action) + gamma * v_s[sp]\n",
    "                    new_v_s[s] += prob * utility\n",
    "\n",
    "            delta = 0\n",
    "            for s in range(3):\n",
    "                delta = max(delta, abs(v_s[s] - new_v_s[s]))\n",
    "\n",
    "            if delta < 1e-14:\n",
    "                break\n",
    "\n",
    "            # update value\n",
    "            v_s = new_v_s\n",
    "\n",
    "        values = sum(v_s)\n",
    "        if best_values is None or sum(best_values) < values:\n",
    "            best_values = v_s\n",
    "            best_policy = policy\n",
    "\n",
    "    print(best_values, sum(best_values))\n",
    "    state_names = ['In MoneyTown', 'MoneyTown Suburbs', 'Outside MoneyTown']\n",
    "    action_names = ['drive', 'not drive']\n",
    "    for s in range(3):\n",
    "        print(state_names[s] ,': ', action_names[best_policy[s]])\n",
    "\n",
    "policy_iteration_algorithm(gamma, T, reward)"
   ]
  },
  {
   "cell_type": "code",
   "execution_count": 6,
   "metadata": {},
   "outputs": [
    {
     "name": "stdout",
     "output_type": "stream",
     "text": [
      "[30.0, 10.0, 10.0] 50.0\n",
      "In MoneyTown :  not drive\n",
      "MoneyTown Suburbs :  not drive\n",
      "Outside MoneyTown :  not drive\n",
      "\n",
      "[30.0, 10.0, 10.0] 50.0\n",
      "In MoneyTown :  not drive\n",
      "MoneyTown Suburbs :  not drive\n",
      "Outside MoneyTown :  not drive\n"
     ]
    }
   ],
   "source": [
    "# wtih gamma = 0\n",
    "new_gamma = 0\n",
    "policy_iteration_algorithm(new_gamma, T, reward)\n",
    "print()\n",
    "value_iteration_algorithm(new_gamma, T, reward)\n",
    "# gamma = 0 means live in the moment.Not driving will make more money so the policy choose not drive at any state."
   ]
  },
  {
   "cell_type": "code",
   "execution_count": 7,
   "metadata": {},
   "outputs": [
    {
     "name": "stdout",
     "output_type": "stream",
     "text": [
      "[118.96551724137929, 93.10344827586206, 83.9756592292089] 296.04462474645027\n",
      "In MoneyTown :  not drive\n",
      "MoneyTown Suburbs :  drive\n",
      "Outside MoneyTown :  drive\n",
      "\n",
      "[118.96551724137929, 93.10344827586206, 83.9756592292089] 296.04462474645027\n",
      "In MoneyTown :  not drive\n",
      "MoneyTown Suburbs :  drive\n",
      "Outside MoneyTown :  drive\n"
     ]
    }
   ],
   "source": [
    "# wtih new T\n",
    "new_T = T.copy()\n",
    "new_T[(MONEYTOWNSUBURBS, DRIVE, MONEYTOWN)] = 0.9\n",
    "new_T[(MONEYTOWNSUBURBS, DRIVE, MONEYTOWNSUBURBS)] = 0.1\n",
    "new_T[(MONEYTOWNSUBURBS, DRIVE, OUTSIDEMONEYTOWN)] = 0\n",
    "policy_iteration_algorithm(gamma, new_T, reward)\n",
    "print()\n",
    "value_iteration_algorithm(gamma, new_T, reward)\n",
    "# If it is in the MoneyTown Suburbs and drives, then with probability .9 it is in MoneyTown in the next period,\n",
    "# with probability .1 it is still in MoneyTown Suburbs in the next period,\n",
    "# the policy will prefer to choose driving instead of not driving, because it will be most likely to go to money town by driving."
   ]
  },
  {
   "cell_type": "code",
   "execution_count": 8,
   "metadata": {},
   "outputs": [
    {
     "name": "stdout",
     "output_type": "stream",
     "text": [
      "[135.32818532818533, 98.64864864864863, 110.23166023166021] 344.2084942084942\n",
      "In MoneyTown :  drive\n",
      "MoneyTown Suburbs :  drive\n",
      "Outside MoneyTown :  drive\n",
      "\n",
      "[135.32818532818533, 98.64864864864863, 110.23166023166021] 344.2084942084942\n",
      "In MoneyTown :  drive\n",
      "MoneyTown Suburbs :  drive\n",
      "Outside MoneyTown :  drive\n"
     ]
    }
   ],
   "source": [
    "# wtih new reward\n",
    "def new_reward(state, action):\n",
    "    r = 0 if action == DRIVE else 0\n",
    "    if state == MONEYTOWN:\n",
    "        r += 30\n",
    "    else:\n",
    "        r += 10\n",
    "    return r\n",
    "policy_iteration_algorithm(gamma, T, new_reward)\n",
    "print()\n",
    "value_iteration_algorithm(gamma, T, new_reward)\n",
    "# If driving doesn't cost money, the policy will prefer to choose that because it will be most likely to stay at money town by driving."
   ]
  },
  {
   "cell_type": "code",
   "execution_count": null,
   "metadata": {},
   "outputs": [],
   "source": []
  },
  {
   "cell_type": "code",
   "execution_count": null,
   "metadata": {},
   "outputs": [],
   "source": []
  }
 ],
 "metadata": {
  "kernelspec": {
   "display_name": "Python 3",
   "language": "python",
   "name": "python3"
  },
  "language_info": {
   "codemirror_mode": {
    "name": "ipython",
    "version": 3
   },
   "file_extension": ".py",
   "mimetype": "text/x-python",
   "name": "python",
   "nbconvert_exporter": "python",
   "pygments_lexer": "ipython3",
   "version": "3.6.4"
  }
 },
 "nbformat": 4,
 "nbformat_minor": 2
}
