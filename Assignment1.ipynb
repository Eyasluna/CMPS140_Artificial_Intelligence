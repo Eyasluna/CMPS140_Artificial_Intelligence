{
 "cells": [
  {
   "cell_type": "markdown",
   "metadata": {},
   "source": [
    "# CMPS 140"
   ]
  },
  {
   "cell_type": "markdown",
   "metadata": {
    "deletable": false,
    "editable": false,
    "nbgrader": {
     "checksum": "95c148d1d7f3bad1a285adcc2df86994",
     "grade": false,
     "grade_id": "cell-d2d02676a6c716dd",
     "locked": true,
     "schema_version": 1,
     "solution": false
    }
   },
   "source": [
    "## Assignment 1\n",
    "\n",
    "**DUE: Friday April 20, 2018 11:59pm**\n",
    "\n",
    "Turn in the assignment via Canvas.\n",
    "\n",
    "To write legible answers you will need to be familiar with both [Markdown](https://github.com/adam-p/markdown-here/wiki/Markdown-Cheatsheet) and [Latex](https://www.latex-tutorial.com/tutorials/amsmath/)\n",
    "\n",
    "Before you turn this problem in, make sure everything runs as expected. First, restart the kernel (in the menubar, select Kernel→→Restart) and then run all cells (in the menubar, select Cell→→Run All).\n",
    "\n",
    "Make sure you fill in any place that says \"YOUR CODE HERE\" or \"YOUR ANSWER HERE\", as well as your name below:\n"
   ]
  },
  {
   "cell_type": "code",
   "execution_count": 23,
   "metadata": {
    "collapsed": true
   },
   "outputs": [],
   "source": [
    "NAME = \"Yibo Fu\"\n",
    "STUDENT_ID = \"6666666\""
   ]
  },
  {
   "cell_type": "markdown",
   "metadata": {
    "deletable": false,
    "editable": false,
    "nbgrader": {
     "checksum": "b0012b5d623145240cdd19dfa65be703",
     "grade": false,
     "grade_id": "cell-fbc61605f66193a2",
     "locked": true,
     "schema_version": 1,
     "solution": false
    }
   },
   "source": [
    "## Problem 1 \n",
    "\n",
    "Suppose that 13 cards are selected at random from a regular deck of 52 playing cards:\n",
    "\n",
    "a. If it is known that at least one ace has been selected, what is the probability that at least two aces have been selected?\n",
    "\n",
    "b. If it is known that the ace of hearts has been selected, what is the probability that at least two aces have been selected?"
   ]
  },
  {
   "cell_type": "markdown",
   "metadata": {
    "deletable": false,
    "nbgrader": {
     "checksum": "a1889ce8782580117854c4f2773af870",
     "grade": true,
     "grade_id": "cell-b18eb48e93041a25",
     "locked": false,
     "points": 1,
     "schema_version": 1,
     "solution": true
    }
   },
   "source": [
    "## [YOUR ANSWER HERE]\n",
    "\n",
    "## Answer of Question a:\n",
    "\n",
    "Event A = At leat one ace has been selected\n",
    "\n",
    "$$P(A)=1-\\frac{\\binom{13}{48}}{\\binom{13}{52}}=0.69$$\n",
    "\n",
    "Event B = At least two aces have benn selected\n",
    "\n",
    "$$P(B)=1-\\left(\\frac{\\binom{13}{48}}{\\binom{13}{52}}+\\frac{\\binom{1}{4}\\binom{12}{48}}{\\binom{13}{52}}\\right)=0.26$$\n",
    "\n",
    "so, if it is known that at least one ace has been selected, the probability that at least two aces have been selected is\n",
    "\n",
    "$$P(B\\mid A)=\\frac{P(AB)}{P(A)}=\\frac{P(B)}{P(A)}=0.37$$\n",
    "\n",
    "\n",
    "## Answer of Question b:\n",
    "\n",
    "Event A = The ace of hearts has been selected\n",
    "\n",
    "$P(A)=\\frac{\\binom{1}{1}\\binom{12}{51}}{\\binom{13}{52}}=0.15$\n",
    "\n",
    "Event B = At least two aces have been selected\n",
    "\n",
    "$P(B)=1-\\left(\\frac{\\binom{13}{48}}{\\binom{13}{52}}+\\frac{\\binom{1}{4}\\binom{12}{48}}{\\binom{13}{52}}\\right)=0.08$\n",
    "\n",
    "Event AB = At least two aces have been selected and one of them is the ace of hearts\n",
    "\n",
    "$P(AB)=\\frac{\\binom{1}{1}\\binom{1}{3}\\binom{11}{48}}{\\binom{13}{52}}+\\frac{\\binom{1}{1}\\binom{2}{3}\\binom{10}{48}}{\\binom{13}{52}}+\\frac{\\binom{1}{1}\\binom{3}{3}\\binom{9}{48}}{\\binom{13}{52}}=0.06$\n",
    "\n",
    "so, if it is known that the ace of hearts has been selected, the probability that at least two aces have been selected is\n",
    "\n",
    "$P(B\\mid A)=\\frac{P(AB)}{P(A)}=0.36$"
   ]
  },
  {
   "cell_type": "markdown",
   "metadata": {
    "deletable": false,
    "editable": false,
    "nbgrader": {
     "checksum": "886ce8f1c285a0340b635a4b945e9ae9",
     "grade": false,
     "grade_id": "cell-63bc34a656b9f6e0",
     "locked": true,
     "schema_version": 1,
     "solution": false
    }
   },
   "source": [
    "## Problem 2\n",
    "\n",
    "\n",
    "Suppose that a person's score X on a mathematics aptitude test is a number between 0 and 1, and that a person's score on a music aptitude test is also a number between 0 and 1. Supposed further that in the population of all college students, the scores X and Y are distributed according to the following joint p.d.f.:\n",
    "\n",
    "$f(x, y) = \\frac{2}{5}(2x+3y),$ for $0 \\leq x \\leq 1$ and $0 \\leq y \\leq 1$\n",
    "\n",
    "a. What proportion of college students obtain a score greater than 0.8 on the mathematics test?\n",
    "\n",
    "b. If a student's score on the music test is 0.3, what is the probability that his/her score on the mathematics test will be greater than 0.8?\n",
    "\n",
    "c. If a student's score on the mathematics test is 0.3, what is the probability that his/her score on the music test will be greater than 0.8?"
   ]
  },
  {
   "cell_type": "markdown",
   "metadata": {
    "deletable": false,
    "nbgrader": {
     "checksum": "e15a7a687546c8c98d80284a2bc17582",
     "grade": true,
     "grade_id": "cell-2f061f10915044a8",
     "locked": false,
     "points": 1,
     "schema_version": 1,
     "solution": true
    }
   },
   "source": [
    "## [YOUR ANSWER HERE]\n",
    "\n",
    "$f(x, y) = \\frac{2}{5}(2x+3y),$ for $0 \\leq x \\leq 1$ and $0 \\leq y \\leq 1$\n",
    "\n",
    "$f_X(x)=\\int_{-\\infty}^{+\\infty}f(x,y)dy=\\frac{2}{5}\\int_{0}^{1}(2x+3y)dy=\\frac{4}{5}x+\\frac{3}{5},$ for $0 \\leq x \\leq 1$\n",
    "\n",
    "$f_Y(y)=\\int_{-\\infty}^{+\\infty}f(x,y)dx=\\frac{2}{5}\\int_{0}^{1}(2x+3y)dx=\\frac{6}{5}y+\\frac{2}{5},$ for $0 \\leq y \\leq 1$\n",
    "\n",
    "$f_{X \\mid Y}(x \\mid y) = \\frac{f(x,y)}{f_Y(y)}=\\frac{2x+3y}{3y+1},$ for $0 \\leq x \\leq 1$ and $0 \\leq y \\leq 1$\n",
    "\n",
    "$f_{Y \\mid X}(y \\mid x) = \\frac{f(x,y)}{f_X(x)}=\\frac{4x+6y}{4x+3},$ for $0 \\leq x \\leq 1$ and $0 \\leq y \\leq 1$\n",
    "\n",
    "## Answer of Question a:\n",
    "\n",
    "The proportion of college students obtain a score greater than 0.8 on the mathematics test is $P(X \\geq 0.8)=1-P(X \\leq 0.8)$\n",
    "\n",
    "$P(X \\leq 0.8)=F_X(x=0.8)=\\int_0^{0.8}(0.8x+0.6)dx=0.736$\n",
    "\n",
    "$P(X \\geq 0.8)=1-P(X \\leq 0.8)=0.264$\n",
    "\n",
    "## Answer of Question b:\n",
    "\n",
    "If a student's score on the music test is 0.3, the probability that his/her score on the mathematics test will be greater than 0.8 is $P(X \\geq 0.8 \\mid Y=0.3)=1-P(X \\leq 0.8 \\mid Y=0.3)$\n",
    "\n",
    "$P(X \\leq 0.8 \\mid Y=0.3)=F_{X \\mid Y}(0.8 \\mid 0.3)=\\int_0^{0.8}\\frac{2x+0.9}{0.9+1}dx=0.7158$\n",
    "\n",
    "$P(X \\geq 0.8 \\mid Y=0.3)=1-P(X \\leq 0.8 \\mid Y=0.3)=0.28$\n",
    "\n",
    "## Answer of Question c:\n",
    "\n",
    "If a student's score on the mathematics test is 0.3, the probability that his/her score on the music test will be greater than 0.8 is $P(Y \\geq 0.8 \\mid X=0.3)=1-P(Y \\leq 0.8 \\mid X=0.3)$\n",
    "\n",
    "$P(Y \\leq 0.8 \\mid X=0.3)=F_{Y \\mid X}(0.8 \\mid 0.3)=\\int_0^{0.8}\\frac{1.2+6y}{1.2+3}dy=0.6857$\n",
    "\n",
    "$P(Y \\geq 0.8 \\mid X=0.3)=1-P(Y \\leq 0.8 \\mid X=0.3)=0.31$"
   ]
  },
  {
   "cell_type": "markdown",
   "metadata": {
    "deletable": false,
    "editable": false,
    "nbgrader": {
     "checksum": "9afe5deed00addacea2ffd902cfd2a76",
     "grade": false,
     "grade_id": "cell-6c53a68749acb988",
     "locked": true,
     "schema_version": 1,
     "solution": false
    }
   },
   "source": [
    "## Problem 3\n",
    "\n",
    "Write out the joint probability distribution described by the following Bayesian Network:\n",
    "\n",
    "![bayes_net](https://docs.google.com/drawings/d/e/2PACX-1vRjJ382tPK3UrxydjCmwWmMjOi-8T1wQN6hBBJhE7u3-creWY7KR-K224MPTU5IzKXtX4ILxviRUMAw/pub?w=720&h=528)"
   ]
  },
  {
   "cell_type": "markdown",
   "metadata": {
    "deletable": false,
    "nbgrader": {
     "checksum": "3315e32937e66207191e55de29900077",
     "grade": true,
     "grade_id": "cell-e702292884b97e63",
     "locked": false,
     "points": 1,
     "schema_version": 1,
     "solution": true
    }
   },
   "source": [
    "## [YOUR ANSWER HERE]\n",
    "\n",
    "$$P(A,B,C,D,E,F)=P(A)P(B)P(C)P(D\\mid A,B)P(E\\mid B,C)P(F\\mid D,E)$$"
   ]
  },
  {
   "cell_type": "markdown",
   "metadata": {
    "deletable": false,
    "editable": false,
    "nbgrader": {
     "checksum": "a8297d74638bd383fc868c1cbdbdc0b7",
     "grade": false,
     "grade_id": "cell-e5b71a52fa68bb04",
     "locked": true,
     "schema_version": 1,
     "solution": false
    }
   },
   "source": [
    "## Problem 4\n",
    "\n",
    "Given the dataset below, use information gain to calculate the first attribute the decision tree should split on. Feel free to use the cell below to explore the dataset and facilitate with the calculations. You should show your work using LaTeX 2 cells down."
   ]
  },
  {
   "cell_type": "code",
   "execution_count": 7,
   "metadata": {},
   "outputs": [
    {
     "name": "stdout",
     "output_type": "stream",
     "text": [
      "There are 150 samples with 4 attributes.\n",
      "The labels consist of 3 classes\n"
     ]
    }
   ],
   "source": [
    "import numpy as np\n",
    "from sklearn.datasets import load_iris\n",
    "\n",
    "data_iris, labels_iris = load_iris(return_X_y=True)\n",
    "\n",
    "print('There are {} samples with {} attributes.'.format(*data_iris.shape))\n",
    "print('The labels consist of {} classes'.format(len(np.unique(labels_iris))))"
   ]
  },
  {
   "cell_type": "markdown",
   "metadata": {
    "deletable": false,
    "nbgrader": {
     "checksum": "4e80f0e5cf3bf5fb6848c2d982131821",
     "grade": true,
     "grade_id": "cell-9d85836f00c56d8e",
     "locked": false,
     "points": 0,
     "schema_version": 1,
     "solution": true
    }
   },
   "source": [
    "## [YOUR ANSWER HERE]\n",
    "\n",
    "By running a python script, I figure out the distribution of all samples as below:\n",
    "\n",
    "| Attributes | Species 1 | Species 2 | Species 3 | Total | \n",
    "| - | - | - | - | - | \n",
    "| Attributes1>=5.5 | 5 | 44 | 49 | 98 | \n",
    "| Attributes1<5.5 | 45 | 6 | 1 | 52 | \n",
    "| Attributes2>=3.0 | 48 | 16 | 29 | 93 | \n",
    "| Attributes2<3.0 | 2 | 34 | 21 | 57 | \n",
    "| Attributes3>=2.0 | 0 | 50 | 50 | 100 | \n",
    "| Attributes3<2.0 | 50 | 0 | 0 | 50 | \n",
    "| Attributes4>=1.0 | 0 | 50 | 50 | 100 | \n",
    "| Attributes4<1.0 | 50 | 0 | 0 | 50 | \n",
    "\n",
    "The entropy of the original data is:\n",
    "\n",
    "$H=-\\frac{1}{3}\\log_2\\frac{1}{3}-\\frac{1}{3}\\log_2\\frac{1}{3}-\\frac{1}{3}\\log_2\\frac{1}{3}=1.585$\n",
    "\n",
    "For Attribute 1:\n",
    "\n",
    "$H_1(>)=-\\frac{5}{98}\\log_2\\frac{5}{98}-\\frac{44}{98}\\log_2\\frac{44}{98}-\\frac{49}{98}\\log_2\\frac{49}{98}$\n",
    "\n",
    "$H_1(<)=-\\frac{45}{52}\\log_2\\frac{45}{52}-\\frac{6}{52}\\log_2\\frac{6}{52}-\\frac{1}{52}\\log_2\\frac{1}{52}$\n",
    "\n",
    "$IG_1=H-\\frac{98}{150}H_1(>)-\\frac{52}{150}H_1(<)<IG_3$\n",
    "\n",
    "For Attribute 2:\n",
    "\n",
    "$H_2(>)=-\\frac{48}{93}\\log_2\\frac{48}{93}-\\frac{16}{93}\\log_2\\frac{16}{93}-\\frac{29}{93}\\log_2\\frac{29}{93}$\n",
    "\n",
    "$H_2(<)=-\\frac{2}{57}\\log_2\\frac{2}{57}-\\frac{34}{57}\\log_2\\frac{34}{57}-\\frac{21}{57}\\log_2\\frac{21}{57}$\n",
    "\n",
    "$IG_2=H-\\frac{93}{150}H_2(>)-\\frac{57}{150}H_2(<)<IG_3$\n",
    "\n",
    "For Attribute 3:\n",
    "\n",
    "$H_3(>)=-\\frac{50}{100}\\log_2\\frac{50}{100}-\\frac{50}{100}\\log_2\\frac{50}{100}$\n",
    "\n",
    "$H_3(<)=-\\frac{50}{50}\\log_2\\frac{50}{50}$\n",
    "\n",
    "$IG_3=H-\\frac{100}{150}H_3(>)-\\frac{50}{150}H_3(<)=0.9183$\n",
    "\n",
    "For Attribute 4, it is easy to know that $IG_4=IG_3=0.9183$\n",
    "\n",
    "The attributes which have the most information gain are attribute 3 and 4, so the first attribute the decision tree should split on is either  attribute 3 or attribute 4."
   ]
  },
  {
   "cell_type": "markdown",
   "metadata": {},
   "source": [
    "## Problem 5\n",
    "\n",
    "Given the dataset below, implement the logistic regression algorithm, optimizing the parameters using gradient descent and squared error as the loss function. See 18.6.4 from the textbook for details."
   ]
  },
  {
   "cell_type": "code",
   "execution_count": 6,
   "metadata": {
    "deletable": false,
    "editable": false,
    "nbgrader": {
     "checksum": "75b88d158872f2555802d1ca4e7d57cb",
     "grade": false,
     "grade_id": "cell-3f4f2172ab68f465",
     "locked": true,
     "schema_version": 1,
     "solution": false
    }
   },
   "outputs": [
    {
     "name": "stdout",
     "output_type": "stream",
     "text": [
      "(100, 2) (100,)\n"
     ]
    },
    {
     "data": {
      "image/png": "[encoded data removed]",
      "text/plain": [
       "<matplotlib.figure.Figure at 0x1d94aa11e48>"
      ]
     },
     "metadata": {},
     "output_type": "display_data"
    }
   ],
   "source": [
    "import numpy as np\n",
    "import matplotlib.pyplot as plt\n",
    "from sklearn.datasets.samples_generator import make_moons\n",
    "\n",
    "np.random.seed(33)\n",
    "data, labels = make_moons(n_samples=100, noise=0.1)\n",
    "colors = ['r' if y else 'b' for y in labels]\n",
    "print(data.shape, labels.shape)\n",
    "plt.scatter(data[:,0], data[:,1], c=colors)\n",
    "plt.show()"
   ]
  },
  {
   "cell_type": "code",
   "execution_count": 21,
   "metadata": {
    "deletable": false,
    "nbgrader": {
     "checksum": "4a753cda013f7b7c1376e8e4d6fd26f9",
     "grade": false,
     "grade_id": "cell-14e8f247a6e4f45c",
     "locked": false,
     "schema_version": 1,
     "solution": true
    }
   },
   "outputs": [
    {
     "name": "stdout",
     "output_type": "stream",
     "text": [
      "Intial Accuracy:1.0%\n",
      "Step 1 Accuracy:1.0%\n",
      "Step 2 Accuracy:1.0%\n",
      "Step 3 Accuracy:1.0%\n",
      "Step 4 Accuracy:1.0%\n",
      "Step 5 Accuracy:1.0%\n",
      "Step 6 Accuracy:1.0%\n",
      "Step 7 Accuracy:1.0%\n",
      "Step 8 Accuracy:1.0%\n",
      "Step 9 Accuracy:1.0%\n",
      "Step 10 Accuracy:1.0%\n"
     ]
    },
    {
     "name": "stderr",
     "output_type": "stream",
     "text": [
      "C:\\Program Files (x86)\\Microsoft Visual Studio\\Shared\\Anaconda3_64\\lib\\site-packages\\ipykernel_launcher.py:12: RuntimeWarning: overflow encountered in exp\n",
      "  if sys.path[0] == '':\n"
     ]
    },
    {
     "data": {
      "text/plain": [
       "<matplotlib.collections.PathCollection at 0x1d94be789e8>"
      ]
     },
     "execution_count": 21,
     "metadata": {},
     "output_type": "execute_result"
    }
   ],
   "source": [
    "def logistic(x, w):\n",
    "    # YOUR CODE HERE\n",
    "    a=[]\n",
    "    for i in range(len(x)):\n",
    "        a.append(np.dot(w,x[i]))\n",
    "    return sigmoid(a)\n",
    "    raise NotImplementedError()\n",
    "    \n",
    "def sigmoid(z):\n",
    "    # YOUR CODE HERE\n",
    "    for i in range(len(z)):\n",
    "        z[i] = 1.0/(1.0+np.exp(-z[i]))\n",
    "    return z\n",
    "    raise NotImplementedError()\n",
    "\n",
    "def sigmoid_derivative(z):\n",
    "    # YOUR CODE HERE\n",
    "    return sigmoid(z)*(1-sigmoid(z))\n",
    "    raise NotImplementedError()\n",
    "    \n",
    "def squared_error(y, h):\n",
    "    # YOUR CODE HERE\n",
    "    total=0\n",
    "    for i in range(len(y)):\n",
    "        total += (y[i]-h[i])*(y[i]-h[i])\n",
    "    return total\n",
    "    raise NotImplementedError()\n",
    "\n",
    "def squared_error_derivative(y, h):\n",
    "    # YOUR CODE HERE\n",
    "    sum = 0\n",
    "    for i in range(len(y)):\n",
    "        sum += y[i]-h[i]\n",
    "    return sum\n",
    "    raise NotImplementedError()\n",
    "    \n",
    "def accuracy(y, h):\n",
    "    # YOUR CODE HERE\n",
    "    new = 0\n",
    "    old = 0\n",
    "    for i in range(len(y)):\n",
    "        if (y[i] == h[i]).any:\n",
    "            new += 1\n",
    "        else:\n",
    "            old += 1\n",
    "    return new/len(y)\n",
    "    raise NotImplementedError()\n",
    "    \n",
    "def logistic_regression(x, y, loss_func, loss_func_derivative, learning_rate, num_steps=10):\n",
    "    # start with intial parameters w_i = 1\n",
    "    w = np.ones(3)\n",
    "    # include a bias term\n",
    "    x = np.pad(x, [[0,0], [1,0]], mode='constant')\n",
    "\n",
    "    print('Intial Accuracy:{}%'.format(accuracy(y, np.round(logistic(x, w)))))\n",
    "    \n",
    "    for step in range(num_steps):\n",
    "        output = logistic(x, w)\n",
    "        update = np.dot(loss_func(y, output) * loss_func_derivative(y, output), x)\n",
    "        w = w + learning_rate * update\n",
    "        print('Step {} Accuracy:{}%'.format(step+1,accuracy(y, np.round(logistic(x, w)))))\n",
    "    return w\n",
    "    \n",
    "\n",
    "ws = logistic_regression(data, labels, squared_error, squared_error_derivative, 0.5)\n",
    "yh = np.round(logistic(np.pad(data, [[0,0], [1,0]], mode='constant'), ws))\n",
    "colors = ['g' if (_yh==_y).any else 'r' for _yh, _y in zip(yh, labels.astype(np.int))]\n",
    "plt.title('Classification Results')\n",
    "plt.scatter(data[:,0], data[:,1], c=colors)"
   ]
  },
  {
   "cell_type": "code",
   "execution_count": 9,
   "metadata": {
    "deletable": false,
    "editable": false,
    "nbgrader": {
     "checksum": "48af5556e545939d398fc0b508377e08",
     "grade": true,
     "grade_id": "cell-5c2d005f666d2961",
     "locked": true,
     "points": 0,
     "schema_version": 1,
     "solution": false
    }
   },
   "outputs": [
    {
     "name": "stdout",
     "output_type": "stream",
     "text": [
      "Intial Accuracy:1.0%\n",
      "Step 1 Accuracy:1.0%\n",
      "Step 2 Accuracy:1.0%\n",
      "Step 3 Accuracy:1.0%\n",
      "Step 4 Accuracy:1.0%\n",
      "Step 5 Accuracy:1.0%\n",
      "Step 6 Accuracy:1.0%\n",
      "Step 7 Accuracy:1.0%\n",
      "Step 8 Accuracy:1.0%\n",
      "Step 9 Accuracy:1.0%\n",
      "Step 10 Accuracy:1.0%\n"
     ]
    },
    {
     "name": "stderr",
     "output_type": "stream",
     "text": [
      "C:\\Program Files (x86)\\Microsoft Visual Studio\\Shared\\Anaconda3_64\\lib\\site-packages\\ipykernel_launcher.py:12: RuntimeWarning: overflow encountered in exp\n",
      "  if sys.path[0] == '':\n"
     ]
    },
    {
     "ename": "AssertionError",
     "evalue": "\nNot equal to tolerance rtol=1e-05, atol=0\n\n(shapes (100, 3), (3,) mismatch)\n x: array([[  1.000000e+00,   6.405059e+03,  -1.235354e+04],\n       [  1.000000e+00,   6.013443e+03,  -1.233764e+04],\n       [  1.000000e+00,   5.995818e+03,  -1.239663e+04],...\n y: array([ 1.      ,  0.510032, -1.569645])",
     "output_type": "error",
     "traceback": [
      "\u001b[1;31m---------------------------------------------------------------------------\u001b[0m",
      "\u001b[1;31mAssertionError\u001b[0m                            Traceback (most recent call last)",
      "\u001b[1;32m<ipython-input-9-f77d4374f8a7>\u001b[0m in \u001b[0;36m<module>\u001b[1;34m()\u001b[0m\n\u001b[0;32m      2\u001b[0m np.testing.assert_allclose(logistic_regression(data, labels, squared_error, squared_error_derivative, 0.5),\n\u001b[0;32m      3\u001b[0m                            \u001b[0mcorrect_w\u001b[0m\u001b[1;33m,\u001b[0m\u001b[1;33m\u001b[0m\u001b[0m\n\u001b[1;32m----> 4\u001b[1;33m                            rtol=1e-5)\n\u001b[0m",
      "\u001b[1;32mC:\\Program Files (x86)\\Microsoft Visual Studio\\Shared\\Anaconda3_64\\lib\\site-packages\\numpy\\testing\\utils.py\u001b[0m in \u001b[0;36massert_allclose\u001b[1;34m(actual, desired, rtol, atol, equal_nan, err_msg, verbose)\u001b[0m\n\u001b[0;32m   1393\u001b[0m     \u001b[0mheader\u001b[0m \u001b[1;33m=\u001b[0m \u001b[1;34m'Not equal to tolerance rtol=%g, atol=%g'\u001b[0m \u001b[1;33m%\u001b[0m \u001b[1;33m(\u001b[0m\u001b[0mrtol\u001b[0m\u001b[1;33m,\u001b[0m \u001b[0matol\u001b[0m\u001b[1;33m)\u001b[0m\u001b[1;33m\u001b[0m\u001b[0m\n\u001b[0;32m   1394\u001b[0m     assert_array_compare(compare, actual, desired, err_msg=str(err_msg),\n\u001b[1;32m-> 1395\u001b[1;33m                          verbose=verbose, header=header, equal_nan=equal_nan)\n\u001b[0m\u001b[0;32m   1396\u001b[0m \u001b[1;33m\u001b[0m\u001b[0m\n\u001b[0;32m   1397\u001b[0m \u001b[1;33m\u001b[0m\u001b[0m\n",
      "\u001b[1;32mC:\\Program Files (x86)\\Microsoft Visual Studio\\Shared\\Anaconda3_64\\lib\\site-packages\\numpy\\testing\\utils.py\u001b[0m in \u001b[0;36massert_array_compare\u001b[1;34m(comparison, x, y, err_msg, verbose, header, precision, equal_nan, equal_inf)\u001b[0m\n\u001b[0;32m    713\u001b[0m                                 \u001b[0mverbose\u001b[0m\u001b[1;33m=\u001b[0m\u001b[0mverbose\u001b[0m\u001b[1;33m,\u001b[0m \u001b[0mheader\u001b[0m\u001b[1;33m=\u001b[0m\u001b[0mheader\u001b[0m\u001b[1;33m,\u001b[0m\u001b[1;33m\u001b[0m\u001b[0m\n\u001b[0;32m    714\u001b[0m                                 names=('x', 'y'), precision=precision)\n\u001b[1;32m--> 715\u001b[1;33m             \u001b[1;32mraise\u001b[0m \u001b[0mAssertionError\u001b[0m\u001b[1;33m(\u001b[0m\u001b[0mmsg\u001b[0m\u001b[1;33m)\u001b[0m\u001b[1;33m\u001b[0m\u001b[0m\n\u001b[0m\u001b[0;32m    716\u001b[0m \u001b[1;33m\u001b[0m\u001b[0m\n\u001b[0;32m    717\u001b[0m         \u001b[1;32mif\u001b[0m \u001b[0misnumber\u001b[0m\u001b[1;33m(\u001b[0m\u001b[0mx\u001b[0m\u001b[1;33m)\u001b[0m \u001b[1;32mand\u001b[0m \u001b[0misnumber\u001b[0m\u001b[1;33m(\u001b[0m\u001b[0my\u001b[0m\u001b[1;33m)\u001b[0m\u001b[1;33m:\u001b[0m\u001b[1;33m\u001b[0m\u001b[0m\n",
      "\u001b[1;31mAssertionError\u001b[0m: \nNot equal to tolerance rtol=1e-05, atol=0\n\n(shapes (100, 3), (3,) mismatch)\n x: array([[  1.000000e+00,   6.405059e+03,  -1.235354e+04],\n       [  1.000000e+00,   6.013443e+03,  -1.233764e+04],\n       [  1.000000e+00,   5.995818e+03,  -1.239663e+04],...\n y: array([ 1.      ,  0.510032, -1.569645])"
     ]
    }
   ],
   "source": [
    "correct_w = np.array([ 1.        ,  0.51003169, -1.56964452])\n",
    "np.testing.assert_allclose(logistic_regression(data, labels, squared_error, squared_error_derivative, 0.5),\n",
    "                           correct_w,\n",
    "                           rtol=1e-5)"
   ]
  },
  {
   "cell_type": "markdown",
   "metadata": {},
   "source": [
    "## Problem 6\n",
    "\n",
    "Implement a single perceptron below.\n",
    "\n",
    "You can assume that both **x** and **w** will be iterables and b will be a single value. All of them will not be *None*."
   ]
  },
  {
   "cell_type": "code",
   "execution_count": 28,
   "metadata": {
    "collapsed": true,
    "deletable": false,
    "nbgrader": {
     "checksum": "23ec0179033bbc5ec963ac98baf613fb",
     "grade": false,
     "grade_id": "cell-6ad288911fa0e2a9",
     "locked": false,
     "schema_version": 1,
     "solution": true
    }
   },
   "outputs": [],
   "source": [
    "def perceptron(x, w, b):\n",
    "    # YOUR CODE HERE\n",
    "    res = b\n",
    "    for i in range(len(x)):\n",
    "        res += x[i]*w[i]\n",
    "    if res >= 0:\n",
    "        return 1\n",
    "    else:\n",
    "        return 0\n",
    "    raise NotImplementedError()"
   ]
  },
  {
   "cell_type": "code",
   "execution_count": 29,
   "metadata": {
    "collapsed": true,
    "deletable": false,
    "editable": false,
    "nbgrader": {
     "checksum": "f8e4fb18f036abcf7180c285e531fd24",
     "grade": true,
     "grade_id": "cell-0beeecf3cc6d7e32",
     "locked": true,
     "points": 1,
     "schema_version": 1,
     "solution": false
    }
   },
   "outputs": [],
   "source": [
    "assert perceptron([1, 2], [1, 1], 0) == 1\n",
    "assert perceptron([1, 2], [1, 1], -5) == 0"
   ]
  }
 ],
 "metadata": {
  "kernelspec": {
   "display_name": "Python 3",
   "language": "python",
   "name": "python3"
  },
  "language_info": {
   "codemirror_mode": {
    "name": "ipython",
    "version": 3
   },
   "file_extension": ".py",
   "mimetype": "text/x-python",
   "name": "python",
   "nbconvert_exporter": "python",
   "pygments_lexer": "ipython3",
   "version": "3.6.2"
  }
 },
 "nbformat": 4,
 "nbformat_minor": 2
}
